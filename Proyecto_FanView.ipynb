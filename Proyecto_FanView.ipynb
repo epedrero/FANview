{
 "cells": [
  {
   "cell_type": "code",
   "execution_count": 1,
   "metadata": {},
   "outputs": [],
   "source": [
    "import pandas as pd\n",
    "import tkinter as tk\n",
    "from tkinter import messagebox, ttk\n",
    "from tkcalendar import Calendar\n",
    "import os\n",
    "from datetime import datetime\n",
    "import numpy as np\n",
    "import re\n",
    "import time\n",
    "import folium\n",
    "from folium.plugins import MarkerCluster\n",
    "import webbrowser"
   ]
  },
  {
   "cell_type": "code",
   "execution_count": 2,
   "metadata": {},
   "outputs": [],
   "source": [
    "def convertir_a_decimal(coordenada):\n",
    "    match = re.match(r\"(\\d+)°(\\d+)'(\\d+)\\\"\", coordenada)\n",
    "    \n",
    "    if match:\n",
    "        grados, minutos, segundos = map(float, match.groups())\n",
    "        decimal = -1*(grados + minutos / 60 + segundos / 3600)\n",
    "        return round(decimal, 7)\n",
    "    else:\n",
    "        print(f\"Error en el formato de la coordenada: {coordenada}\")\n",
    "        return None "
   ]
  },
  {
   "cell_type": "code",
   "execution_count": 3,
   "metadata": {},
   "outputs": [],
   "source": [
    "empresas=[\"MultiX\", \"Blumar\", \"Yadran\", \"Australis\", \"Aquachile\", \"SalmonesAustral\",\"Camanchaca\",\"Mowi\", \"Cermaq\", \"GMT\"]\n",
    "profundidad=[0, 5, 10]"
   ]
  },
  {
   "cell_type": "code",
   "execution_count": 4,
   "metadata": {},
   "outputs": [],
   "source": [
    "### SELECCIÓN DE FECHA ###\n",
    "fecha_seleccionada = None\n",
    "def show_calendar():\n",
    "    def on_date_select():\n",
    "        global fecha_seleccionada\n",
    "        fecha_seleccionada = cal.get_date()\n",
    "        top.destroy()\n",
    "        main_window.destroy()\n",
    "\n",
    "    top = tk.Toplevel(main_window)\n",
    "    cal = Calendar(top, font=\"Arial 14\", selectmode='day', locale='es_ES')\n",
    "    cal.pack(fill=\"both\", expand=True)\n",
    "    ttk.Button(top, text=\"Seleccionar\", command=on_date_select).pack()\n",
    "\n",
    "main_window = tk.Tk()\n",
    "main_window.config(width=300, height=200)\n",
    "main_window.title(\"Seleccionar Fecha\")\n",
    "\n",
    "button = ttk.Button(text=\"Seleccionar Fecha\", command=show_calendar)\n",
    "button.place(x=50, y=50)\n",
    "main_window.mainloop()\n",
    "fecha= datetime.strptime(fecha_seleccionada, \"%d/%m/%y\")\n",
    "fecha=fecha.strftime(\"%d-%m-%Y\")"
   ]
  },
  {
   "cell_type": "code",
   "execution_count": 5,
   "metadata": {},
   "outputs": [],
   "source": [
    "### BASE DE DATOS ALGAS NOCIVAS ###\n",
    "conc_path=r\"C:\\Users\\ernes\\Documents\\Trabajo\\Proyecto_Beta\\datos_xlsx\\Algas_Nocivas.xlsx\"\n",
    "df_algas_nocivas = pd.read_excel(conc_path, sheet_name=\"CENTRO\")\n",
    "\n",
    "### BASE DE DATOS DE UBICACIONES GEOGRÁFICAS DE CENTROS ###\n",
    "Centros=[]\n",
    "centros_path=r\"C:\\Users\\ernes\\Documents\\Trabajo\\Proyecto_Beta\\datos_xlsx\\Centros.xlsx\"\n",
    "excel_Centros = pd.ExcelFile(centros_path)\n",
    "for empresa in empresas:\n",
    "    df_empresa = pd.read_excel(excel_Centros, sheet_name=empresa)\n",
    "    Centros.append(df_empresa)\n",
    "    globals()[f\"df_{empresa}\"] = df_empresa"
   ]
  },
  {
   "cell_type": "code",
   "execution_count": 6,
   "metadata": {},
   "outputs": [],
   "source": [
    "### BASE DE DATOS CONTABILIZACIONES ####\n",
    "DB_path=r\"C:\\Users\\ernes\\Documents\\Trabajo\\Proyecto_Beta\\datos_xlsx\\DB.xlsx\"\n",
    "excel_DB = pd.ExcelFile(DB_path)\n",
    "Centros_DB=[]\n",
    "empresas_test=[\"MultiX\", \"Blumar\"] #Cambiar a empresas cuando haya BD robusta\n",
    "Especies = []\n",
    "for empresa in empresas_test:\n",
    "    df_DB_empresa = pd.read_excel(excel_DB, sheet_name=empresa)\n",
    "    df_DB_empresa = df_DB_empresa[(df_DB_empresa[\"MONITOREO\"] == \"CENTRO\") & \n",
    "                                  (df_DB_empresa['FECHA'] == fecha) & \n",
    "                                  (df_DB_empresa[\"NOCIVO\"] != \"NO\")]\n",
    "    especies_empresa = df_DB_empresa[\"ESPECIE\"].unique().tolist()\n",
    "    Especies.extend(especie for especie in especies_empresa if especie not in Especies)\n",
    "    Centros_DB.append(df_DB_empresa)\n",
    "    globals()[f\"df_DB_{empresa}\"] = df_DB_empresa"
   ]
  },
  {
   "cell_type": "code",
   "execution_count": 7,
   "metadata": {},
   "outputs": [
    {
     "name": "stdout",
     "output_type": "stream",
     "text": [
      "41°43'14\"\n",
      "-41.7205556\n",
      "<class 'str'>\n"
     ]
    }
   ],
   "source": [
    "lat=Centros[0][Centros[0]['NOMBRE'] == Centros_DB[0]['CENTRO'].iloc[5]]['LATITUDE'].values[0]\n",
    "print(lat)\n",
    "print(convertir_a_decimal(lat))\n",
    "print(type(lat))"
   ]
  },
  {
   "cell_type": "code",
   "execution_count": 8,
   "metadata": {},
   "outputs": [
    {
     "data": {
      "text/plain": [
       "'44°58\\'54\"'"
      ]
     },
     "execution_count": 8,
     "metadata": {},
     "output_type": "execute_result"
    }
   ],
   "source": [
    "Centros[0][Centros[0]['NOMBRE'] == Centros_DB[0]['CENTRO'].iloc[10]]['LATITUDE'].values[0]"
   ]
  },
  {
   "cell_type": "code",
   "execution_count": 9,
   "metadata": {},
   "outputs": [
    {
     "name": "stdout",
     "output_type": "stream",
     "text": [
      "44°19'19\"\n",
      "-44.3219444\n",
      "<class 'str'>\n"
     ]
    }
   ],
   "source": [
    "lat=Centros[1][Centros[1]['NOMBRE']==Centros_DB[1]['CENTRO'].iloc[5]]['LATITUDE'].values[0]\n",
    "print(lat)\n",
    "print(convertir_a_decimal(lat))\n",
    "print(type(lat))"
   ]
  },
  {
   "cell_type": "code",
   "execution_count": 10,
   "metadata": {},
   "outputs": [
    {
     "data": {
      "text/plain": [
       "-74.3230556"
      ]
     },
     "execution_count": 10,
     "metadata": {},
     "output_type": "execute_result"
    }
   ],
   "source": [
    "convertir_a_decimal(Centros[1][Centros[1]['NOMBRE']==Centros_DB[1]['CENTRO'].iloc[5]]['LONGITUDE'].values[0])"
   ]
  },
  {
   "cell_type": "code",
   "execution_count": 11,
   "metadata": {},
   "outputs": [
    {
     "name": "stdout",
     "output_type": "stream",
     "text": [
      "verde\n",
      "amarillo\n",
      "verde\n",
      "amarillo\n",
      "amarillo\n",
      "rojo\n",
      "rojo\n",
      "verde\n",
      "verde\n",
      "verde\n",
      "verde\n",
      "verde\n",
      "verde\n",
      "verde\n",
      "verde\n",
      "verde\n",
      "verde\n",
      "verde\n",
      "verde\n",
      "verde\n",
      "verde\n",
      "verde\n",
      "verde\n",
      "verde\n",
      "verde\n",
      "verde\n",
      "verde\n",
      "verde\n",
      "verde\n",
      "verde\n",
      "verde\n",
      "verde\n",
      "verde\n",
      "verde\n",
      "verde\n",
      "verde\n",
      "verde\n",
      "verde\n",
      "verde\n",
      "verde\n",
      "verde\n",
      "verde\n"
     ]
    },
    {
     "ename": "IndexError",
     "evalue": "index 0 is out of bounds for axis 0 with size 0",
     "output_type": "error",
     "traceback": [
      "\u001b[1;31m---------------------------------------------------------------------------\u001b[0m",
      "\u001b[1;31mIndexError\u001b[0m                                Traceback (most recent call last)",
      "Cell \u001b[1;32mIn[11], line 20\u001b[0m\n\u001b[0;32m     18\u001b[0m \u001b[38;5;28;01mfor\u001b[39;00m i \u001b[38;5;129;01min\u001b[39;00m \u001b[38;5;28mrange\u001b[39m(\u001b[38;5;241m0\u001b[39m,size):\n\u001b[0;32m     19\u001b[0m     \u001b[38;5;28;01mif\u001b[39;00m (centros[\u001b[38;5;124m'\u001b[39m\u001b[38;5;124mESPECIE\u001b[39m\u001b[38;5;124m'\u001b[39m]\u001b[38;5;241m.\u001b[39miloc[i]\u001b[38;5;241m==\u001b[39mespecie) \u001b[38;5;129;01mand\u001b[39;00m (centros[\u001b[38;5;124m'\u001b[39m\u001b[38;5;124mPROFUNDIDAD\u001b[39m\u001b[38;5;124m'\u001b[39m]\u001b[38;5;241m.\u001b[39miloc[i]\u001b[38;5;241m==\u001b[39mprof):\n\u001b[1;32m---> 20\u001b[0m         latitude\u001b[38;5;241m=\u001b[39m\u001b[43mCentros\u001b[49m\u001b[43m[\u001b[49m\u001b[43mk\u001b[49m\u001b[43m]\u001b[49m\u001b[43m[\u001b[49m\u001b[43mCentros\u001b[49m\u001b[43m[\u001b[49m\u001b[43mk\u001b[49m\u001b[43m]\u001b[49m\u001b[43m[\u001b[49m\u001b[38;5;124;43m'\u001b[39;49m\u001b[38;5;124;43mNOMBRE\u001b[39;49m\u001b[38;5;124;43m'\u001b[39;49m\u001b[43m]\u001b[49m\u001b[43m \u001b[49m\u001b[38;5;241;43m==\u001b[39;49m\u001b[43m \u001b[49m\u001b[43mcentros\u001b[49m\u001b[43m[\u001b[49m\u001b[38;5;124;43m'\u001b[39;49m\u001b[38;5;124;43mCENTRO\u001b[39;49m\u001b[38;5;124;43m'\u001b[39;49m\u001b[43m]\u001b[49m\u001b[38;5;241;43m.\u001b[39;49m\u001b[43miloc\u001b[49m\u001b[43m[\u001b[49m\u001b[43mi\u001b[49m\u001b[43m]\u001b[49m\u001b[43m]\u001b[49m\u001b[43m[\u001b[49m\u001b[38;5;124;43m'\u001b[39;49m\u001b[38;5;124;43mLATITUDE\u001b[39;49m\u001b[38;5;124;43m'\u001b[39;49m\u001b[43m]\u001b[49m\u001b[38;5;241;43m.\u001b[39;49m\u001b[43mvalues\u001b[49m\u001b[43m[\u001b[49m\u001b[38;5;241;43m0\u001b[39;49m\u001b[43m]\u001b[49m\n\u001b[0;32m     21\u001b[0m         longitude\u001b[38;5;241m=\u001b[39mCentros[k][Centros[k][\u001b[38;5;124m'\u001b[39m\u001b[38;5;124mNOMBRE\u001b[39m\u001b[38;5;124m'\u001b[39m] \u001b[38;5;241m==\u001b[39m centros[\u001b[38;5;124m'\u001b[39m\u001b[38;5;124mCENTRO\u001b[39m\u001b[38;5;124m'\u001b[39m]\u001b[38;5;241m.\u001b[39miloc[i]][\u001b[38;5;124m'\u001b[39m\u001b[38;5;124mLONGITUDE\u001b[39m\u001b[38;5;124m'\u001b[39m]\u001b[38;5;241m.\u001b[39mvalues[\u001b[38;5;241m0\u001b[39m]\n\u001b[0;32m     22\u001b[0m         location\u001b[38;5;241m=\u001b[39m[convertir_a_decimal(latitude),convertir_a_decimal(longitude)]\n",
      "\u001b[1;31mIndexError\u001b[0m: index 0 is out of bounds for axis 0 with size 0"
     ]
    }
   ],
   "source": [
    "# Crea un mapa centrado\n",
    "attr = (\n",
    "    'Tiles &copy; Esri &mdash; Source: Esri, i-cubed, USDA, USGS, AEX, GeoEye, Getmapping, Aerogrid, IGN, IGP, UPR-EGP, and the GIS User Community'\n",
    ")\n",
    "tiles = 'https://server.arcgisonline.com/ArcGIS/rest/services/World_Imagery/MapServer/tile/{z}/{y}/{x}'\n",
    "mapa = folium.Map(location=[-44.5378, -74.0256], zoom_start=8, tiles=tiles, attr=attr)\n",
    "\n",
    "k=0\n",
    "for centros in Centros_DB:\n",
    "    size = len(centros['BARRIO'])\n",
    "    for especie in Especies:\n",
    "        for prof in profundidad:\n",
    "            layer_name=f\"{especie}_{prof}m_{fecha}\"\n",
    "            current_layer=folium.FeatureGroup(name=layer_name,show=False)\n",
    "            if especie in df_algas_nocivas['ESPECIE'].to_list():\n",
    "                valor_normal = df_algas_nocivas.loc[df_algas_nocivas['ESPECIE'] == especie, 'NORMAL'].values[0]\n",
    "                valor_alerta = df_algas_nocivas.loc[df_algas_nocivas['ESPECIE'] == especie, 'ALERTA'].values[0]\n",
    "                for i in range(0,size):\n",
    "                    if (centros['ESPECIE'].iloc[i]==especie) and (centros['PROFUNDIDAD'].iloc[i]==prof):\n",
    "                        latitude=Centros[k][Centros[k]['NOMBRE'] == centros['CENTRO'].iloc[i]]['LATITUDE'].values[0]\n",
    "                        longitude=Centros[k][Centros[k]['NOMBRE'] == centros['CENTRO'].iloc[i]]['LONGITUDE'].values[0]\n",
    "                        location=[convertir_a_decimal(latitude),convertir_a_decimal(longitude)]\n",
    "                        if centros['CANTIDAD'].iloc[i]<=valor_normal:\n",
    "                            folium.Circle(location=location, \n",
    "                                        color=\"yellowgreen\", fill_color=\"yellowgreen\", \n",
    "                                        radius=500, fill_opacity=0.5).add_to(current_layer)                            \n",
    "                            print('verde')\n",
    "                        elif centros['CANTIDAD'].iloc[i]>=valor_alerta:\n",
    "                            folium.Circle(location=location,\n",
    "                                        color=\"red\", fill_color=\"red\", \n",
    "                                        radius=500, fill_opacity=0.5).add_to(current_layer)\n",
    "                            print('rojo')\n",
    "                        else:\n",
    "                            folium.Circle(location=location,\n",
    "                                        color=\"yellow\", fill_color=\"yellow\",\n",
    "                                        radius=500, fill_opacity=0.5).add_to(current_layer)\n",
    "                            print('amarillo')\n",
    "            current_layer.add_to(mapa)\n",
    "    k=k+1\n",
    "\n",
    "folium.LayerControl().add_to(mapa)\n",
    "mapa_nombre='mapa.html'\n",
    "mapa.save(mapa_nombre)\n",
    "webbrowser.open(mapa_nombre)"
   ]
  },
  {
   "cell_type": "code",
   "execution_count": null,
   "metadata": {},
   "outputs": [
    {
     "name": "stdout",
     "output_type": "stream",
     "text": [
      "verde\n",
      "verde\n",
      "verde\n",
      "verde\n"
     ]
    },
    {
     "ename": "IndexError",
     "evalue": "index 0 is out of bounds for axis 0 with size 0",
     "output_type": "error",
     "traceback": [
      "\u001b[1;31m---------------------------------------------------------------------------\u001b[0m",
      "\u001b[1;31mIndexError\u001b[0m                                Traceback (most recent call last)",
      "Cell \u001b[1;32mIn[28], line 21\u001b[0m\n\u001b[0;32m     19\u001b[0m \u001b[38;5;28;01mfor\u001b[39;00m i \u001b[38;5;129;01min\u001b[39;00m \u001b[38;5;28mrange\u001b[39m(\u001b[38;5;241m0\u001b[39m,size):\n\u001b[0;32m     20\u001b[0m     \u001b[38;5;28;01mif\u001b[39;00m (centros[\u001b[38;5;124m'\u001b[39m\u001b[38;5;124mESPECIE\u001b[39m\u001b[38;5;124m'\u001b[39m]\u001b[38;5;241m.\u001b[39miloc[i]\u001b[38;5;241m==\u001b[39mespecie) \u001b[38;5;129;01mand\u001b[39;00m (centros[\u001b[38;5;124m'\u001b[39m\u001b[38;5;124mPROFUNDIDAD\u001b[39m\u001b[38;5;124m'\u001b[39m]\u001b[38;5;241m.\u001b[39miloc[i]\u001b[38;5;241m==\u001b[39mprof):\n\u001b[1;32m---> 21\u001b[0m         latitude\u001b[38;5;241m=\u001b[39m\u001b[43mCentros\u001b[49m\u001b[43m[\u001b[49m\u001b[43mk\u001b[49m\u001b[43m]\u001b[49m\u001b[43m[\u001b[49m\u001b[43mCentros\u001b[49m\u001b[43m[\u001b[49m\u001b[43mk\u001b[49m\u001b[43m]\u001b[49m\u001b[43m[\u001b[49m\u001b[38;5;124;43m'\u001b[39;49m\u001b[38;5;124;43mNOMBRE\u001b[39;49m\u001b[38;5;124;43m'\u001b[39;49m\u001b[43m]\u001b[49m\u001b[43m \u001b[49m\u001b[38;5;241;43m==\u001b[39;49m\u001b[43m \u001b[49m\u001b[43mcentros\u001b[49m\u001b[43m[\u001b[49m\u001b[38;5;124;43m'\u001b[39;49m\u001b[38;5;124;43mCENTRO\u001b[39;49m\u001b[38;5;124;43m'\u001b[39;49m\u001b[43m]\u001b[49m\u001b[38;5;241;43m.\u001b[39;49m\u001b[43miloc\u001b[49m\u001b[43m[\u001b[49m\u001b[43mi\u001b[49m\u001b[43m]\u001b[49m\u001b[43m]\u001b[49m\u001b[43m[\u001b[49m\u001b[38;5;124;43m'\u001b[39;49m\u001b[38;5;124;43mLATITUDE\u001b[39;49m\u001b[38;5;124;43m'\u001b[39;49m\u001b[43m]\u001b[49m\u001b[38;5;241;43m.\u001b[39;49m\u001b[43mvalues\u001b[49m\u001b[43m[\u001b[49m\u001b[38;5;241;43m0\u001b[39;49m\u001b[43m]\u001b[49m\n\u001b[0;32m     22\u001b[0m         longitude\u001b[38;5;241m=\u001b[39mCentros[k][Centros[k][\u001b[38;5;124m'\u001b[39m\u001b[38;5;124mNOMBRE\u001b[39m\u001b[38;5;124m'\u001b[39m] \u001b[38;5;241m==\u001b[39m centros[\u001b[38;5;124m'\u001b[39m\u001b[38;5;124mCENTRO\u001b[39m\u001b[38;5;124m'\u001b[39m]\u001b[38;5;241m.\u001b[39miloc[i]][\u001b[38;5;124m'\u001b[39m\u001b[38;5;124mLONGITUDE\u001b[39m\u001b[38;5;124m'\u001b[39m]\u001b[38;5;241m.\u001b[39mvalues[\u001b[38;5;241m0\u001b[39m]\n\u001b[0;32m     23\u001b[0m         location\u001b[38;5;241m=\u001b[39m[convertir_a_decimal(latitude),convertir_a_decimal(longitude)]\n",
      "\u001b[1;31mIndexError\u001b[0m: index 0 is out of bounds for axis 0 with size 0"
     ]
    }
   ],
   "source": [
    "# Crea un mapa centrado\n",
    "attr = (\n",
    "    'Tiles &copy; Esri &mdash; Source: Esri, i-cubed, USDA, USGS, AEX, GeoEye, Getmapping, Aerogrid, IGN, IGP, UPR-EGP, and the GIS User Community'\n",
    ")\n",
    "tiles = 'https://server.arcgisonline.com/ArcGIS/rest/services/World_Imagery/MapServer/tile/{z}/{y}/{x}'\n",
    "mapa = folium.Map(location=[-44.5378, -74.0256], zoom_start=8, tiles=tiles, attr=attr)\n",
    "\n",
    "k=0\n",
    "    \n",
    "for especie in Especies:\n",
    "    for prof in profundidad:\n",
    "        layer_name=f\"{especie}_{prof}m_{fecha}\"\n",
    "        current_layer=folium.FeatureGroup(name=layer_name,show=False)\n",
    "        if especie in df_algas_nocivas['ESPECIE'].to_list():\n",
    "            valor_normal = df_algas_nocivas.loc[df_algas_nocivas['ESPECIE'] == especie, 'NORMAL'].values[0]\n",
    "            valor_alerta = df_algas_nocivas.loc[df_algas_nocivas['ESPECIE'] == especie, 'ALERTA'].values[0]\n",
    "            for centros in Centros_DB:\n",
    "                size = len(centros['BARRIO'])\n",
    "                for i in range(0,size):\n",
    "                    if (centros['ESPECIE'].iloc[i]==especie) and (centros['PROFUNDIDAD'].iloc[i]==prof):\n",
    "                        latitude=Centros[k][Centros[k]['NOMBRE'] == centros['CENTRO'].iloc[i]]['LATITUDE'].values[0]\n",
    "                        longitude=Centros[k][Centros[k]['NOMBRE'] == centros['CENTRO'].iloc[i]]['LONGITUDE'].values[0]\n",
    "                        location=[convertir_a_decimal(latitude),convertir_a_decimal(longitude)]\n",
    "                        if centros['CANTIDAD'].iloc[i]<=valor_normal:\n",
    "                            folium.Circle(location=location, \n",
    "                                        color=\"yellowgreen\", fill_color=\"yellowgreen\", \n",
    "                                        radius=500, fill_opacity=0.5).add_to(current_layer)                            \n",
    "                            print('verde')\n",
    "                        elif centros['CANTIDAD'].iloc[i]>=valor_alerta:\n",
    "                            folium.Circle(location=location,\n",
    "                                        color=\"red\", fill_color=\"red\", \n",
    "                                        radius=500, fill_opacity=0.5).add_to(current_layer)\n",
    "                            print('rojo')\n",
    "                        else:\n",
    "                            folium.Circle(location=location,\n",
    "                                        color=\"yellow\", fill_color=\"yellow\",\n",
    "                                        radius=500, fill_opacity=0.5).add_to(current_layer)\n",
    "                            print('amarillo')\n",
    "                k=k+1\n",
    "        current_layer.add_to(mapa)\n",
    "\n",
    "folium.LayerControl().add_to(mapa)\n",
    "mapa_nombre='mapa.html'\n",
    "mapa.save(mapa_nombre)\n",
    "webbrowser.open(mapa_nombre)"
   ]
  }
 ],
 "metadata": {
  "kernelspec": {
   "display_name": "earthengine-env",
   "language": "python",
   "name": "python3"
  },
  "language_info": {
   "codemirror_mode": {
    "name": "ipython",
    "version": 3
   },
   "file_extension": ".py",
   "mimetype": "text/x-python",
   "name": "python",
   "nbconvert_exporter": "python",
   "pygments_lexer": "ipython3",
   "version": "3.8.18"
  }
 },
 "nbformat": 4,
 "nbformat_minor": 2
}
