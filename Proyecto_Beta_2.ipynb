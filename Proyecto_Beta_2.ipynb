{
 "cells": [
  {
   "cell_type": "code",
   "execution_count": 1,
   "metadata": {},
   "outputs": [],
   "source": [
    "import pandas as pd\n",
    "import tkinter as tk\n",
    "from tkinter import messagebox, ttk\n",
    "from tkcalendar import Calendar\n",
    "import os\n",
    "from datetime import datetime\n",
    "import numpy as np\n",
    "import re\n",
    "import time\n",
    "import folium\n",
    "from folium.plugins import MarkerCluster\n",
    "import webbrowser"
   ]
  },
  {
   "cell_type": "code",
   "execution_count": 2,
   "metadata": {},
   "outputs": [],
   "source": [
    "def convertir_a_decimal(coordenada):\n",
    "    # Usar expresiones regulares para extraer grados, minutos y segundos\n",
    "    match = re.match(r\"(\\d+)°(\\d+)'(\\d+)\\\"\", coordenada)\n",
    "    \n",
    "    if match:\n",
    "        grados, minutos, segundos = map(float, match.groups())\n",
    "        decimal = -1*(grados + minutos / 60 + segundos / 3600)\n",
    "        return round(decimal, 7)\n",
    "    else:\n",
    "        # Manejar casos donde el formato no es el esperado\n",
    "        print(f\"Error en el formato de la coordenada: {coordenada}\")\n",
    "        return None  # O manejar de otra manera según tus necesidades"
   ]
  },
  {
   "cell_type": "code",
   "execution_count": 3,
   "metadata": {},
   "outputs": [],
   "source": [
    "empresas=[\"MultiX\", \"Blumar\", \"Yadran\", \"Australis\", \"Aquachile\", \"SalmonesAustral\",\"Camanchaca\",\"Mowi\", \"Cermaq\", \"GMT\"]\n",
    "profundidad=[0, 5, 10]"
   ]
  },
  {
   "cell_type": "code",
   "execution_count": 4,
   "metadata": {},
   "outputs": [],
   "source": [
    "### SELECCIÓN DE FECHA ###\n",
    "fecha_seleccionada = None\n",
    "def show_calendar():\n",
    "    def on_date_select():\n",
    "        global fecha_seleccionada\n",
    "        fecha_seleccionada = cal.get_date()\n",
    "        top.destroy()\n",
    "        main_window.destroy()\n",
    "\n",
    "    top = tk.Toplevel(main_window)\n",
    "    cal = Calendar(top, font=\"Arial 14\", selectmode='day', locale='es_ES')\n",
    "    cal.pack(fill=\"both\", expand=True)\n",
    "    ttk.Button(top, text=\"Seleccionar\", command=on_date_select).pack()\n",
    "\n",
    "main_window = tk.Tk()\n",
    "main_window.config(width=300, height=200)\n",
    "main_window.title(\"Seleccionar Fecha\")\n",
    "\n",
    "button = ttk.Button(text=\"Seleccionar Fecha\", command=show_calendar)\n",
    "button.place(x=50, y=50)\n",
    "main_window.mainloop()\n",
    "fecha_obj = datetime.strptime(fecha_seleccionada, \"%d/%m/%y\")\n",
    "fecha=fecha_obj.strftime(\"%Y-%m-%d %H:%M:%S\")"
   ]
  },
  {
   "cell_type": "code",
   "execution_count": 7,
   "metadata": {},
   "outputs": [
    {
     "ename": "TypeError",
     "evalue": "expected string or bytes-like object",
     "output_type": "error",
     "traceback": [
      "\u001b[1;31m---------------------------------------------------------------------------\u001b[0m",
      "\u001b[1;31mTypeError\u001b[0m                                 Traceback (most recent call last)",
      "Cell \u001b[1;32mIn[7], line 13\u001b[0m\n\u001b[0;32m     11\u001b[0m df_centros_MultiX\u001b[38;5;241m=\u001b[39mdf_empresas[\u001b[38;5;124m\"\u001b[39m\u001b[38;5;124mdf_centros_MultiX\u001b[39m\u001b[38;5;124m\"\u001b[39m]\n\u001b[0;32m     12\u001b[0m df_centros_Blumar\u001b[38;5;241m=\u001b[39mdf_empresas[\u001b[38;5;124m\"\u001b[39m\u001b[38;5;124mdf_centros_Blumar\u001b[39m\u001b[38;5;124m\"\u001b[39m]\n\u001b[1;32m---> 13\u001b[0m df_centros_MultiX[\u001b[38;5;124m'\u001b[39m\u001b[38;5;124mLATITUDE\u001b[39m\u001b[38;5;124m'\u001b[39m] \u001b[38;5;241m=\u001b[39m \u001b[43mdf_centros_MultiX\u001b[49m\u001b[43m[\u001b[49m\u001b[38;5;124;43m'\u001b[39;49m\u001b[38;5;124;43mLATITUDE\u001b[39;49m\u001b[38;5;124;43m'\u001b[39;49m\u001b[43m]\u001b[49m\u001b[38;5;241;43m.\u001b[39;49m\u001b[43mapply\u001b[49m\u001b[43m(\u001b[49m\u001b[43mconvertir_a_decimal\u001b[49m\u001b[43m)\u001b[49m\n\u001b[0;32m     14\u001b[0m df_centros_MultiX[\u001b[38;5;124m'\u001b[39m\u001b[38;5;124mLONGITUDE\u001b[39m\u001b[38;5;124m'\u001b[39m] \u001b[38;5;241m=\u001b[39m df_centros_MultiX[\u001b[38;5;124m'\u001b[39m\u001b[38;5;124mLONGITUDE\u001b[39m\u001b[38;5;124m'\u001b[39m]\u001b[38;5;241m.\u001b[39mapply(convertir_a_decimal)\n\u001b[0;32m     15\u001b[0m df_centros_MultiX\u001b[38;5;241m.\u001b[39mhead()\n",
      "File \u001b[1;32mc:\\Users\\ernes\\anaconda3\\envs\\earthengine-env\\lib\\site-packages\\pandas\\core\\series.py:4630\u001b[0m, in \u001b[0;36mSeries.apply\u001b[1;34m(self, func, convert_dtype, args, **kwargs)\u001b[0m\n\u001b[0;32m   4520\u001b[0m \u001b[38;5;28;01mdef\u001b[39;00m \u001b[38;5;21mapply\u001b[39m(\n\u001b[0;32m   4521\u001b[0m     \u001b[38;5;28mself\u001b[39m,\n\u001b[0;32m   4522\u001b[0m     func: AggFuncType,\n\u001b[1;32m   (...)\u001b[0m\n\u001b[0;32m   4525\u001b[0m     \u001b[38;5;241m*\u001b[39m\u001b[38;5;241m*\u001b[39mkwargs,\n\u001b[0;32m   4526\u001b[0m ) \u001b[38;5;241m-\u001b[39m\u001b[38;5;241m>\u001b[39m DataFrame \u001b[38;5;241m|\u001b[39m Series:\n\u001b[0;32m   4527\u001b[0m \u001b[38;5;250m    \u001b[39m\u001b[38;5;124;03m\"\"\"\u001b[39;00m\n\u001b[0;32m   4528\u001b[0m \u001b[38;5;124;03m    Invoke function on values of Series.\u001b[39;00m\n\u001b[0;32m   4529\u001b[0m \n\u001b[1;32m   (...)\u001b[0m\n\u001b[0;32m   4628\u001b[0m \u001b[38;5;124;03m    dtype: float64\u001b[39;00m\n\u001b[0;32m   4629\u001b[0m \u001b[38;5;124;03m    \"\"\"\u001b[39;00m\n\u001b[1;32m-> 4630\u001b[0m     \u001b[38;5;28;01mreturn\u001b[39;00m \u001b[43mSeriesApply\u001b[49m\u001b[43m(\u001b[49m\u001b[38;5;28;43mself\u001b[39;49m\u001b[43m,\u001b[49m\u001b[43m \u001b[49m\u001b[43mfunc\u001b[49m\u001b[43m,\u001b[49m\u001b[43m \u001b[49m\u001b[43mconvert_dtype\u001b[49m\u001b[43m,\u001b[49m\u001b[43m \u001b[49m\u001b[43margs\u001b[49m\u001b[43m,\u001b[49m\u001b[43m \u001b[49m\u001b[43mkwargs\u001b[49m\u001b[43m)\u001b[49m\u001b[38;5;241;43m.\u001b[39;49m\u001b[43mapply\u001b[49m\u001b[43m(\u001b[49m\u001b[43m)\u001b[49m\n",
      "File \u001b[1;32mc:\\Users\\ernes\\anaconda3\\envs\\earthengine-env\\lib\\site-packages\\pandas\\core\\apply.py:1025\u001b[0m, in \u001b[0;36mSeriesApply.apply\u001b[1;34m(self)\u001b[0m\n\u001b[0;32m   1022\u001b[0m     \u001b[38;5;28;01mreturn\u001b[39;00m \u001b[38;5;28mself\u001b[39m\u001b[38;5;241m.\u001b[39mapply_str()\n\u001b[0;32m   1024\u001b[0m \u001b[38;5;66;03m# self.f is Callable\u001b[39;00m\n\u001b[1;32m-> 1025\u001b[0m \u001b[38;5;28;01mreturn\u001b[39;00m \u001b[38;5;28;43mself\u001b[39;49m\u001b[38;5;241;43m.\u001b[39;49m\u001b[43mapply_standard\u001b[49m\u001b[43m(\u001b[49m\u001b[43m)\u001b[49m\n",
      "File \u001b[1;32mc:\\Users\\ernes\\anaconda3\\envs\\earthengine-env\\lib\\site-packages\\pandas\\core\\apply.py:1076\u001b[0m, in \u001b[0;36mSeriesApply.apply_standard\u001b[1;34m(self)\u001b[0m\n\u001b[0;32m   1074\u001b[0m     \u001b[38;5;28;01melse\u001b[39;00m:\n\u001b[0;32m   1075\u001b[0m         values \u001b[38;5;241m=\u001b[39m obj\u001b[38;5;241m.\u001b[39mastype(\u001b[38;5;28mobject\u001b[39m)\u001b[38;5;241m.\u001b[39m_values\n\u001b[1;32m-> 1076\u001b[0m         mapped \u001b[38;5;241m=\u001b[39m \u001b[43mlib\u001b[49m\u001b[38;5;241;43m.\u001b[39;49m\u001b[43mmap_infer\u001b[49m\u001b[43m(\u001b[49m\n\u001b[0;32m   1077\u001b[0m \u001b[43m            \u001b[49m\u001b[43mvalues\u001b[49m\u001b[43m,\u001b[49m\n\u001b[0;32m   1078\u001b[0m \u001b[43m            \u001b[49m\u001b[43mf\u001b[49m\u001b[43m,\u001b[49m\n\u001b[0;32m   1079\u001b[0m \u001b[43m            \u001b[49m\u001b[43mconvert\u001b[49m\u001b[38;5;241;43m=\u001b[39;49m\u001b[38;5;28;43mself\u001b[39;49m\u001b[38;5;241;43m.\u001b[39;49m\u001b[43mconvert_dtype\u001b[49m\u001b[43m,\u001b[49m\n\u001b[0;32m   1080\u001b[0m \u001b[43m        \u001b[49m\u001b[43m)\u001b[49m\n\u001b[0;32m   1082\u001b[0m \u001b[38;5;28;01mif\u001b[39;00m \u001b[38;5;28mlen\u001b[39m(mapped) \u001b[38;5;129;01mand\u001b[39;00m \u001b[38;5;28misinstance\u001b[39m(mapped[\u001b[38;5;241m0\u001b[39m], ABCSeries):\n\u001b[0;32m   1083\u001b[0m     \u001b[38;5;66;03m# GH#43986 Need to do list(mapped) in order to get treated as nested\u001b[39;00m\n\u001b[0;32m   1084\u001b[0m     \u001b[38;5;66;03m#  See also GH#25959 regarding EA support\u001b[39;00m\n\u001b[0;32m   1085\u001b[0m     \u001b[38;5;28;01mreturn\u001b[39;00m obj\u001b[38;5;241m.\u001b[39m_constructor_expanddim(\u001b[38;5;28mlist\u001b[39m(mapped), index\u001b[38;5;241m=\u001b[39mobj\u001b[38;5;241m.\u001b[39mindex)\n",
      "File \u001b[1;32mc:\\Users\\ernes\\anaconda3\\envs\\earthengine-env\\lib\\site-packages\\pandas\\_libs\\lib.pyx:2834\u001b[0m, in \u001b[0;36mpandas._libs.lib.map_infer\u001b[1;34m()\u001b[0m\n",
      "Cell \u001b[1;32mIn[2], line 3\u001b[0m, in \u001b[0;36mconvertir_a_decimal\u001b[1;34m(coordenada)\u001b[0m\n\u001b[0;32m      1\u001b[0m \u001b[38;5;28;01mdef\u001b[39;00m \u001b[38;5;21mconvertir_a_decimal\u001b[39m(coordenada):\n\u001b[0;32m      2\u001b[0m     \u001b[38;5;66;03m# Usar expresiones regulares para extraer grados, minutos y segundos\u001b[39;00m\n\u001b[1;32m----> 3\u001b[0m     match \u001b[38;5;241m=\u001b[39m \u001b[43mre\u001b[49m\u001b[38;5;241;43m.\u001b[39;49m\u001b[43mmatch\u001b[49m\u001b[43m(\u001b[49m\u001b[38;5;124;43mr\u001b[39;49m\u001b[38;5;124;43m\"\u001b[39;49m\u001b[38;5;124;43m(\u001b[39;49m\u001b[38;5;124;43m\\\u001b[39;49m\u001b[38;5;124;43md+)°(\u001b[39;49m\u001b[38;5;124;43m\\\u001b[39;49m\u001b[38;5;124;43md+)\u001b[39;49m\u001b[38;5;124;43m'\u001b[39;49m\u001b[38;5;124;43m(\u001b[39;49m\u001b[38;5;124;43m\\\u001b[39;49m\u001b[38;5;124;43md+)\u001b[39;49m\u001b[38;5;130;43;01m\\\"\u001b[39;49;00m\u001b[38;5;124;43m\"\u001b[39;49m\u001b[43m,\u001b[49m\u001b[43m \u001b[49m\u001b[43mcoordenada\u001b[49m\u001b[43m)\u001b[49m\n\u001b[0;32m      5\u001b[0m     \u001b[38;5;28;01mif\u001b[39;00m match:\n\u001b[0;32m      6\u001b[0m         grados, minutos, segundos \u001b[38;5;241m=\u001b[39m \u001b[38;5;28mmap\u001b[39m(\u001b[38;5;28mfloat\u001b[39m, match\u001b[38;5;241m.\u001b[39mgroups())\n",
      "File \u001b[1;32mc:\\Users\\ernes\\anaconda3\\envs\\earthengine-env\\lib\\re.py:191\u001b[0m, in \u001b[0;36mmatch\u001b[1;34m(pattern, string, flags)\u001b[0m\n\u001b[0;32m    188\u001b[0m \u001b[38;5;28;01mdef\u001b[39;00m \u001b[38;5;21mmatch\u001b[39m(pattern, string, flags\u001b[38;5;241m=\u001b[39m\u001b[38;5;241m0\u001b[39m):\n\u001b[0;32m    189\u001b[0m \u001b[38;5;250m    \u001b[39m\u001b[38;5;124;03m\"\"\"Try to apply the pattern at the start of the string, returning\u001b[39;00m\n\u001b[0;32m    190\u001b[0m \u001b[38;5;124;03m    a Match object, or None if no match was found.\"\"\"\u001b[39;00m\n\u001b[1;32m--> 191\u001b[0m     \u001b[38;5;28;01mreturn\u001b[39;00m \u001b[43m_compile\u001b[49m\u001b[43m(\u001b[49m\u001b[43mpattern\u001b[49m\u001b[43m,\u001b[49m\u001b[43m \u001b[49m\u001b[43mflags\u001b[49m\u001b[43m)\u001b[49m\u001b[38;5;241;43m.\u001b[39;49m\u001b[43mmatch\u001b[49m\u001b[43m(\u001b[49m\u001b[43mstring\u001b[49m\u001b[43m)\u001b[49m\n",
      "\u001b[1;31mTypeError\u001b[0m: expected string or bytes-like object"
     ]
    }
   ],
   "source": [
    "### BASE DE DATOS ALGAS NOCIVAS ###\n",
    "conc_path=r\"C:\\Users\\ernes\\Documents\\Trabajo\\Proyecto_Beta\\datos_xlsx\\Algas_Nocivas.xlsx\"\n",
    "df_algas_nocivas = pd.read_excel(conc_path, sheet_name=\"CENTRO\")\n",
    "\n",
    "### BASE DE DATOS DE UBICACIONES GEOGRÁFICAS DE CENTROS ###\n",
    "centros_path=r\"C:\\Users\\ernes\\Documents\\Trabajo\\Proyecto_Beta\\datos_xlsx\\Centros.xlsx\"\n",
    "df_empresas={}\n",
    "for i in empresas:\n",
    "    df_centros=pd.read_excel(centros_path,sheet_name=i)\n",
    "    df_empresas[f\"df_centros_{i}\"]=df_centros\n",
    "df_centros_MultiX=df_empresas[\"df_centros_MultiX\"]\n",
    "df_centros_Blumar=df_empresas[\"df_centros_Blumar\"]\n",
    "df_centros_MultiX['LATITUDE'] = df_centros_MultiX['LATITUDE'].apply(convertir_a_decimal)\n",
    "df_centros_MultiX['LONGITUDE'] = df_centros_MultiX['LONGITUDE'].apply(convertir_a_decimal)\n",
    "df_centros_MultiX.head()"
   ]
  },
  {
   "cell_type": "code",
   "execution_count": null,
   "metadata": {},
   "outputs": [],
   "source": [
    "DB_path=r\"C:\\Users\\ernes\\Documents\\Trabajo\\Proyecto_Beta\\datos_xlsx\\DB.xlsx\"\n",
    "df_DB=pd.read_excel(DB_path,sheet_name=\"MultiX\")\n",
    "df_DB_filtrada=df_DB[\n",
    "    (df_DB['MONITOREO'] == \"CENTRO\") &\n",
    "    (df_DB['NOCIVO'] != 'NO') &\n",
    "    (df_DB['FECHA'] == fecha)\n",
    "]\n",
    "especies = df_DB_filtrada['ESPECIE'].unique().tolist() #Lista con especies registradas al la fecha\n",
    "\n",
    "#especies = [especie.replace(' ', '_').replace('.', '_') for especie in especies]"
   ]
  },
  {
   "cell_type": "code",
   "execution_count": null,
   "metadata": {},
   "outputs": [
    {
     "data": {
      "text/plain": [
       "5        80000\n",
       "35       40000\n",
       "45       60000\n",
       "57       66000\n",
       "84     1800000\n",
       "163     800000\n",
       "Name: CANTIDAD, dtype: int64"
      ]
     },
     "execution_count": 18,
     "metadata": {},
     "output_type": "execute_result"
    }
   ],
   "source": [
    "df_DB_filtrada[(df_DB_filtrada['ESPECIE']==especies[0])&(df_DB_filtrada['PROFUNDIDAD']==5)]['CANTIDAD']"
   ]
  },
  {
   "cell_type": "code",
   "execution_count": null,
   "metadata": {},
   "outputs": [
    {
     "ename": "ValueError",
     "evalue": "Can only compare identically-labeled Series objects",
     "output_type": "error",
     "traceback": [
      "\u001b[1;31m---------------------------------------------------------------------------\u001b[0m",
      "\u001b[1;31mValueError\u001b[0m                                Traceback (most recent call last)",
      "Cell \u001b[1;32mIn[9], line 8\u001b[0m\n\u001b[0;32m      6\u001b[0m         lista_centros\u001b[38;5;241m=\u001b[39mdf_DB_filtrada[(df_DB_filtrada[\u001b[38;5;124m'\u001b[39m\u001b[38;5;124mESPECIE\u001b[39m\u001b[38;5;124m'\u001b[39m]\u001b[38;5;241m==\u001b[39mespecie)\u001b[38;5;241m&\u001b[39m(df_DB_filtrada[\u001b[38;5;124m'\u001b[39m\u001b[38;5;124mPROFUNDIDAD\u001b[39m\u001b[38;5;124m'\u001b[39m]\u001b[38;5;241m==\u001b[39mi)][\u001b[38;5;124m'\u001b[39m\u001b[38;5;124mCENTRO\u001b[39m\u001b[38;5;124m'\u001b[39m]\u001b[38;5;241m.\u001b[39mtolist()\n\u001b[0;32m      7\u001b[0m         cantidad\u001b[38;5;241m=\u001b[39mdf_DB_filtrada[(df_DB_filtrada[\u001b[38;5;124m'\u001b[39m\u001b[38;5;124mESPECIE\u001b[39m\u001b[38;5;124m'\u001b[39m]\u001b[38;5;241m==\u001b[39mespecie)\u001b[38;5;241m&\u001b[39m(df_DB_filtrada[\u001b[38;5;124m'\u001b[39m\u001b[38;5;124mPROFUNDIDAD\u001b[39m\u001b[38;5;124m'\u001b[39m]\u001b[38;5;241m==\u001b[39mi)][\u001b[38;5;124m'\u001b[39m\u001b[38;5;124mCANTIDAD\u001b[39m\u001b[38;5;124m'\u001b[39m]  \n\u001b[1;32m----> 8\u001b[0m         \u001b[38;5;28;01mif\u001b[39;00m \u001b[43mcantidad\u001b[49m\u001b[43m \u001b[49m\u001b[38;5;241;43m<\u001b[39;49m\u001b[38;5;241;43m=\u001b[39;49m\u001b[43m \u001b[49m\u001b[43mdf_algas_nocivas\u001b[49m\u001b[43m[\u001b[49m\u001b[43mdf_algas_nocivas\u001b[49m\u001b[43m[\u001b[49m\u001b[38;5;124;43m'\u001b[39;49m\u001b[38;5;124;43mESPECIE\u001b[39;49m\u001b[38;5;124;43m'\u001b[39;49m\u001b[43m]\u001b[49m\u001b[38;5;241;43m==\u001b[39;49m\u001b[43mespecie\u001b[49m\u001b[43m]\u001b[49m\u001b[43m[\u001b[49m\u001b[38;5;124;43m'\u001b[39;49m\u001b[38;5;124;43mNORMAL\u001b[39;49m\u001b[38;5;124;43m'\u001b[39;49m\u001b[43m]\u001b[49m:\n\u001b[0;32m      9\u001b[0m             folium\u001b[38;5;241m.\u001b[39mCircle(location\u001b[38;5;241m=\u001b[39m[\u001b[38;5;241m-\u001b[39m\u001b[38;5;241m42.7128\u001b[39m, \u001b[38;5;241m-\u001b[39m\u001b[38;5;241m74.0060\u001b[39m], color\u001b[38;5;241m=\u001b[39m\u001b[38;5;124m\"\u001b[39m\u001b[38;5;124mlightgreen\u001b[39m\u001b[38;5;124m\"\u001b[39m, fill_color\u001b[38;5;241m=\u001b[39m\u001b[38;5;124m\"\u001b[39m\u001b[38;5;124mgreen\u001b[39m\u001b[38;5;124m\"\u001b[39m, radius\u001b[38;5;241m=\u001b[39m\u001b[38;5;241m1500\u001b[39m, fill_opacity\u001b[38;5;241m=\u001b[39m\u001b[38;5;241m0.5\u001b[39m)\u001b[38;5;241m.\u001b[39madd_to(capa_circulos)\n\u001b[0;32m     11\u001b[0m \u001b[38;5;28mprint\u001b[39m(capas)\n",
      "File \u001b[1;32mc:\\Users\\ernes\\anaconda3\\envs\\earthengine-env\\lib\\site-packages\\pandas\\core\\ops\\common.py:81\u001b[0m, in \u001b[0;36m_unpack_zerodim_and_defer.<locals>.new_method\u001b[1;34m(self, other)\u001b[0m\n\u001b[0;32m     77\u001b[0m             \u001b[38;5;28;01mreturn\u001b[39;00m \u001b[38;5;28mNotImplemented\u001b[39m\n\u001b[0;32m     79\u001b[0m other \u001b[38;5;241m=\u001b[39m item_from_zerodim(other)\n\u001b[1;32m---> 81\u001b[0m \u001b[38;5;28;01mreturn\u001b[39;00m \u001b[43mmethod\u001b[49m\u001b[43m(\u001b[49m\u001b[38;5;28;43mself\u001b[39;49m\u001b[43m,\u001b[49m\u001b[43m \u001b[49m\u001b[43mother\u001b[49m\u001b[43m)\u001b[49m\n",
      "File \u001b[1;32mc:\\Users\\ernes\\anaconda3\\envs\\earthengine-env\\lib\\site-packages\\pandas\\core\\arraylike.py:52\u001b[0m, in \u001b[0;36mOpsMixin.__le__\u001b[1;34m(self, other)\u001b[0m\n\u001b[0;32m     50\u001b[0m \u001b[38;5;129m@unpack_zerodim_and_defer\u001b[39m(\u001b[38;5;124m\"\u001b[39m\u001b[38;5;124m__le__\u001b[39m\u001b[38;5;124m\"\u001b[39m)\n\u001b[0;32m     51\u001b[0m \u001b[38;5;28;01mdef\u001b[39;00m \u001b[38;5;21m__le__\u001b[39m(\u001b[38;5;28mself\u001b[39m, other):\n\u001b[1;32m---> 52\u001b[0m     \u001b[38;5;28;01mreturn\u001b[39;00m \u001b[38;5;28;43mself\u001b[39;49m\u001b[38;5;241;43m.\u001b[39;49m\u001b[43m_cmp_method\u001b[49m\u001b[43m(\u001b[49m\u001b[43mother\u001b[49m\u001b[43m,\u001b[49m\u001b[43m \u001b[49m\u001b[43moperator\u001b[49m\u001b[38;5;241;43m.\u001b[39;49m\u001b[43mle\u001b[49m\u001b[43m)\u001b[49m\n",
      "File \u001b[1;32mc:\\Users\\ernes\\anaconda3\\envs\\earthengine-env\\lib\\site-packages\\pandas\\core\\series.py:6090\u001b[0m, in \u001b[0;36mSeries._cmp_method\u001b[1;34m(self, other, op)\u001b[0m\n\u001b[0;32m   6087\u001b[0m res_name \u001b[38;5;241m=\u001b[39m ops\u001b[38;5;241m.\u001b[39mget_op_result_name(\u001b[38;5;28mself\u001b[39m, other)\n\u001b[0;32m   6089\u001b[0m \u001b[38;5;28;01mif\u001b[39;00m \u001b[38;5;28misinstance\u001b[39m(other, Series) \u001b[38;5;129;01mand\u001b[39;00m \u001b[38;5;129;01mnot\u001b[39;00m \u001b[38;5;28mself\u001b[39m\u001b[38;5;241m.\u001b[39m_indexed_same(other):\n\u001b[1;32m-> 6090\u001b[0m     \u001b[38;5;28;01mraise\u001b[39;00m \u001b[38;5;167;01mValueError\u001b[39;00m(\u001b[38;5;124m\"\u001b[39m\u001b[38;5;124mCan only compare identically-labeled Series objects\u001b[39m\u001b[38;5;124m\"\u001b[39m)\n\u001b[0;32m   6092\u001b[0m lvalues \u001b[38;5;241m=\u001b[39m \u001b[38;5;28mself\u001b[39m\u001b[38;5;241m.\u001b[39m_values\n\u001b[0;32m   6093\u001b[0m rvalues \u001b[38;5;241m=\u001b[39m extract_array(other, extract_numpy\u001b[38;5;241m=\u001b[39m\u001b[38;5;28;01mTrue\u001b[39;00m, extract_range\u001b[38;5;241m=\u001b[39m\u001b[38;5;28;01mTrue\u001b[39;00m)\n",
      "\u001b[1;31mValueError\u001b[0m: Can only compare identically-labeled Series objects"
     ]
    }
   ],
   "source": [
    "capas={}\n",
    "for especie in especies:\n",
    "    for i in profundidad:\n",
    "        capa_especie_profundidad = folium.FeatureGroup(name=f'{especie}_{i}m')\n",
    "        capas[f\"{especie}_{i}m_{fecha_seleccionada.replace('/','-')}\"]=capa_especie_profundidad\n",
    "        lista_centros=df_DB_filtrada[(df_DB_filtrada['ESPECIE']==especie)&(df_DB_filtrada['PROFUNDIDAD']==i)]['CENTRO'].tolist()\n",
    "        cantidad=df_DB_filtrada[(df_DB_filtrada['ESPECIE']==especie)&(df_DB_filtrada['PROFUNDIDAD']==i)]['CANTIDAD']  \n",
    "        if cantidad <= df_algas_nocivas[df_algas_nocivas['ESPECIE']==especie]['NORMAL']:\n",
    "            folium.Circle(location=[-42.7128, -74.0060], color=\"lightgreen\", fill_color=\"green\", radius=1500, fill_opacity=0.5).add_to(capa_circulos)\n",
    "\n",
    "print(capas)"
   ]
  },
  {
   "cell_type": "code",
   "execution_count": null,
   "metadata": {},
   "outputs": [
    {
     "data": {
      "text/plain": [
       "11    50000.0\n",
       "Name: NORMAL, dtype: float64"
      ]
     },
     "execution_count": 69,
     "metadata": {},
     "output_type": "execute_result"
    }
   ],
   "source": [
    "df_algas_nocivas[df_algas_nocivas['ESPECIE']==especies[0]]['NORMAL']"
   ]
  },
  {
   "cell_type": "code",
   "execution_count": null,
   "metadata": {},
   "outputs": [
    {
     "data": {
      "text/plain": [
       "True"
      ]
     },
     "execution_count": 16,
     "metadata": {},
     "output_type": "execute_result"
    }
   ],
   "source": [
    "# Crea un mapa centrado en una ubicación específica\n",
    "attr = (\n",
    "    'Tiles &copy; Esri &mdash; Source: Esri, i-cubed, USDA, USGS, AEX, GeoEye, Getmapping, Aerogrid, IGN, IGP, UPR-EGP, and the GIS User Community'\n",
    ")\n",
    "tiles = 'https://server.arcgisonline.com/ArcGIS/rest/services/World_Imagery/MapServer/tile/{z}/{y}/{x}'\n",
    "mapa = folium.Map(location=[-47.7128, -74.0060], zoom_start=5.8, tiles=tiles, attr=attr)\n",
    "\n",
    "# Crear un grupo de capas para los círculos\n",
    "capa_circulos = folium.FeatureGroup(name='Círculos')\n",
    "# Crear un conjunto específico llamado \"Alerta\"\n",
    "capa_alerta = folium.FeatureGroup(name='Alerta')\n",
    "\n",
    "\n",
    "# Añadir círculos a la capa\n",
    "folium.Circle(location=[-43.7128, -74.0060], color=\"red\", fill_color=\"red\", radius=500, fill_opacity=0.5).add_to(capa_circulos)\n",
    "folium.Circle(location=[-42.7128, -74.0060], color=\"yellowgreen\", fill_color=\"green\", radius=500, fill_opacity=0.5).add_to(capa_circulos)\n",
    "folium.Circle(location=[-44.7128, -74.0060], color=\"yellow\", fill_color=\"yellow\", radius=500, fill_opacity=0.5).add_to(capa_circulos)\n",
    "\n",
    "# Añadir círculos rojo y amarillo al conjunto \"Alerta\"\n",
    "folium.Circle(location=[-43.7128, -74.0060], color=\"red\", fill_color=\"red\", radius=500, fill_opacity=0.5).add_to(capa_alerta)\n",
    "folium.Circle(location=[-44.7128, -74.0060], color=\"yellow\", fill_color=\"yellow\", radius=500, fill_opacity=0.5).add_to(capa_alerta)\n",
    "\n",
    "# Añadir las capas al mapa\n",
    "capa_circulos.add_to(mapa)\n",
    "capa_alerta.add_to(mapa)\n",
    "\n",
    "# Añadir control de capas al mapa\n",
    "folium.LayerControl().add_to(mapa)\n",
    "# Guarda el mapa como un archivo HTML\n",
    "mapa_nombre='mapa.html'\n",
    "mapa.save(mapa_nombre)\n",
    "webbrowser.open(mapa_nombre)"
   ]
  }
 ],
 "metadata": {
  "kernelspec": {
   "display_name": "earthengine-env",
   "language": "python",
   "name": "python3"
  },
  "language_info": {
   "codemirror_mode": {
    "name": "ipython",
    "version": 3
   },
   "file_extension": ".py",
   "mimetype": "text/x-python",
   "name": "python",
   "nbconvert_exporter": "python",
   "pygments_lexer": "ipython3",
   "version": "3.8.18"
  }
 },
 "nbformat": 4,
 "nbformat_minor": 2
}
